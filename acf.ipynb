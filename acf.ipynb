{
 "metadata": {
  "kernelspec": {
   "display_name": "Python 2",
   "language": "python",
   "name": "python2"
  },
  "language_info": {
   "codemirror_mode": {
    "name": "ipython",
    "version": 2
   },
   "file_extension": ".py",
   "mimetype": "text/x-python",
   "name": "python",
   "nbconvert_exporter": "python",
   "pygments_lexer": "ipython2",
   "version": "2.7.10"
  },
  "name": "",
  "signature": "sha256:78f156430ff900e00e6786c313f83a4e1389b7be6514a58ab51bd2a72e7638d1"
 },
 "nbformat": 3,
 "nbformat_minor": 0,
 "worksheets": [
  {
   "cells": [
    {
     "cell_type": "code",
     "collapsed": true,
     "input": [
      "from progressbar import AnimatedMarker, Bar, BouncingBar, Counter, ETA, \\\n",
      "    FileTransferSpeed, FormatLabel, Percentage, \\\n",
      "    ProgressBar, ReverseBar, RotatingMarker, \\\n",
      "    SimpleProgress, Timer, AdaptiveETA, AdaptiveTransferSpeed\n",
      "\n",
      "examples = []\n",
      "\n",
      "import sys\n",
      "import time"
     ],
     "language": "python",
     "metadata": {},
     "outputs": [],
     "prompt_number": 8
    },
    {
     "cell_type": "code",
     "collapsed": false,
     "input": [
      "%matplotlib inline\n",
      "\n",
      "from numpy.fft import fft\n",
      "import theano\n",
      "import cPickle\n",
      "import numpy as np\n",
      "from theano import tensor, function\n",
      "from pylab import imshow\n",
      "from pylab import rcParams\n",
      "\n",
      "from IPython.display import Image\n",
      "from agnez.weight import grid2d\n",
      "from fuel.datasets import MNIST\n",
      "from fuel.streams import DataStream\n",
      "from fuel.transformers import Mapping, Flatten\n",
      "from fuel.schemes import SequentialScheme\n",
      "from blocks.bricks.cost import MisclassificationRate\n",
      "\n",
      "from blocks_contrib.probability import Pserver\n",
      "from blocks_contrib.datasets import rotated_dataset, Meanizer\n",
      "from sklearn.manifold.t_sne import TSNE\n",
      "\n",
      "from agnez import embedding2d, embedding2dplot, video_grid\n",
      "\n",
      "import seaborn as sns\n",
      "sns.set_style('dark')\n",
      "sns.set_palette('muted')\n",
      "sns.set_context(\"notebook\", font_scale=1.5,\n",
      "                rc={\"lines.linewidth\": 2.5})\n",
      "import matplotlib.pyplot as plt\n",
      "\n",
      "from sklearn.neighbors import KNeighborsClassifier as KNC"
     ],
     "language": "python",
     "metadata": {},
     "outputs": [],
     "prompt_number": 9
    },
    {
     "cell_type": "code",
     "collapsed": false,
     "input": [
      "def _circshift(data):\n",
      "    b = data[0]\n",
      "    for i in range(data[0].shape[1]):\n",
      "        bi = data[0][:, i, :]\n",
      "        bi[10:] = 0\n",
      "        bi[:, 10:] = 0*bi[:, 10:]\n",
      "        n = np.random.randint(0, 20, 1)\n",
      "        b[:, i, :] = np.roll(bi, n, axis=0)\n",
      "    return (b, data[1])"
     ],
     "language": "python",
     "metadata": {},
     "outputs": [],
     "prompt_number": 10
    },
    {
     "cell_type": "code",
     "collapsed": false,
     "input": [
      "    leng = 1000\n",
      "    batch_size=1000\n",
      "    mnist_test = MNIST(\"test\", subset=slice(60000,leng+60000))\n",
      "    teststream = Mapping(Flatten(DataStream(mnist_test,\n",
      "                             iteration_scheme=SequentialScheme(\n",
      "                                 leng,\n",
      "                                 batch_size))), rotated_dataset(20))\n",
      "    teststream = Mapping(teststream, _circshift)\n",
      "    \n",
      "    mnist_train = MNIST(\"train\", subset=slice(0,6*leng))\n",
      "    trainstream = Mapping(Flatten(DataStream(mnist_train,\n",
      "                             iteration_scheme=SequentialScheme(\n",
      "                                 6*leng,\n",
      "                                 batch_size))), rotated_dataset(20))\n",
      "    trainstream = Mapping(trainstream, _circshift)\n",
      "    # meanizer = Meanizer(trainstream)\n",
      "    # trainstream = Mapping(trainstream, meanizer.meanless)\n",
      "    # teststream = Mapping(teststream, meanizer.meanless)"
     ],
     "language": "python",
     "metadata": {},
     "outputs": [],
     "prompt_number": 11
    },
    {
     "cell_type": "heading",
     "level": 4,
     "metadata": {},
     "source": [
      "Load models and data"
     ]
    },
    {
     "cell_type": "code",
     "collapsed": false,
     "input": [
      "def autocorrentropy(X, sigma=1):\n",
      "    b, t, d = X.shape\n",
      "    V = np.zeros((b, t))\n",
      "    nor = np.sqrt(2*np.pi)*sigma\n",
      "    dem = 2*sigma**2\n",
      "    for i in range(b):\n",
      "        for j in range(t):\n",
      "            V[i, j] = np.exp((-(X[i, :(t-j)]-X[i, j:])**2).sum() / dem / (t-j)) / nor\n",
      "    return V\n",
      "\n",
      "def autocorrentropy2(X, sigma=1):\n",
      "    b, t, d = X.shape\n",
      "    V = np.zeros((b, t, d))\n",
      "    nor = np.sqrt(2*np.pi)*sigma\n",
      "    dem = 2*sigma**2\n",
      "    for i in range(b):\n",
      "        for j in range(t):\n",
      "            V[i, j, :] = np.exp((-(X[i, :(t-j), :]-X[i, j:, :])**2) / dem).sum(axis=0) / (t-j)\n",
      "            #V[i, j, :] = ((X[i, :(t-j), :]-X[i, j:, :])**2).sum(axis=0)\n",
      "    return V\n",
      "\n",
      "def correlation(X, sigma=1):\n",
      "    b, t, d = X.shape\n",
      "    V = np.zeros((b, t, d))\n",
      "    nor = np.sqrt(2*np.pi)*sigma\n",
      "    dem = 2*sigma**2\n",
      "    for i in range(b):\n",
      "        for j in range(t):\n",
      "            a = X[i, :(t-j), :]\n",
      "            b = X[i, j:, :]\n",
      "            #ma = a.mean\n",
      "            #asq = (a**2).mean()\n",
      "            #mb = b.mean\n",
      "            #bsq = (b**2).mean()\n",
      "            V[i, j, :] = (a*b).sum(axis=0) / (t-j)\n",
      "    return V\n",
      "\n",
      "def example(fn):\n",
      "    def wrapped(X):\n",
      "        try:\n",
      "            sys.stdout.write('Running: %s\\n' % fn.__name__)\n",
      "            V = fn(X)\n",
      "            sys.stdout.write('\\n')\n",
      "        except KeyboardInterrupt:\n",
      "            sys.stdout.write('\\nSkipping example.\\n\\n')\n",
      "        return V\n",
      "\n",
      "    examples.append(wrapped)\n",
      "    return wrapped\n",
      "\n",
      "@example\n",
      "def crosscorrelation(X):\n",
      "    b, t, d = X.shape\n",
      "    V = np.zeros((b, b))\n",
      "    v1 = np.zeros(t)\n",
      "    v2 = np.zeros(t)\n",
      "    with ProgressBar(maxval=b) as progress:\n",
      "        for i in range(b):\n",
      "            progress.update(i)\n",
      "            for j in range(b):\n",
      "                for k in range(0):\n",
      "                    v1[k] = ((X[i, :(t-k), :] - X[j, k:, :])**2 / (t-k)).sum()\n",
      "                    v2[k] = ((X[i, k:, :] - X[j, :(t-k), :])**2 / (t-k)).sum()\n",
      "                V[i, j] = v1[0] #+v2[0]/2#(v1+v2).min() / 2\n",
      "    return V\n",
      "\n",
      "@example\n",
      "def crosscorrentropy(X, sigma=1):\n",
      "    b, t, d = X.shape\n",
      "    V = np.zeros((b, b))\n",
      "    v1 = np.zeros(t)\n",
      "    v2 = np.zeros(t)\n",
      "    nor = np.sqrt(2*np.pi)*sigma\n",
      "    dem = 2*sigma**2\n",
      "    with ProgressBar(maxval=b) as progress:\n",
      "        for i in range(b):\n",
      "            progress.update(i)\n",
      "            for j in range(b):\n",
      "                for k in range(t):\n",
      "                    v1[k] = np.exp(-((X[i, :(t-k), :] - X[j, k:, :])**2 / (t-k)).sum() / dem) / nor\n",
      "                    v2[k] = np.exp(-((X[i, k:, :] - X[j, :(t-k), :])**2 / (t-k)).sum() / dem) / nor\n",
      "                V[i, j] = (v1+v2).max() / 2\n",
      "    return V"
     ],
     "language": "python",
     "metadata": {},
     "outputs": [],
     "prompt_number": 12
    },
    {
     "cell_type": "code",
     "collapsed": false,
     "input": [
      "X = np.random.normal(0, 1, (100, 20, 784))\n",
      "V = autocorrentropy2(X)\n",
      "_ = plt.plot(V[1])"
     ],
     "language": "python",
     "metadata": {},
     "outputs": []
    },
    {
     "cell_type": "code",
     "collapsed": false,
     "input": [
      "V = crosscorrentropy(X)\n",
      "print V.shape"
     ],
     "language": "python",
     "metadata": {},
     "outputs": []
    },
    {
     "cell_type": "code",
     "collapsed": false,
     "input": [
      "imshow(V)"
     ],
     "language": "python",
     "metadata": {},
     "outputs": []
    },
    {
     "cell_type": "code",
     "collapsed": false,
     "input": [
      "# z = np.zeros((leng, 20))\n",
      "x = np.zeros((leng, 20, 784))\n",
      "y = np.zeros((leng, 20, 784))\n",
      "\n",
      "labels = np.zeros(leng)\n",
      "\n",
      "sigma=.1\n",
      "for i,b in enumerate(teststream.get_epoch_iterator()):\n",
      "    print i\n",
      "    first = i*batch_size\n",
      "    last = (i+1)*batch_size\n",
      "    data = b[0].transpose(1, 0, 2)\n",
      "    # z[first:last] = autocorrentropy(data, sigma=sigma)\n",
      "    #x[first:last] = data\n",
      "    y[first:last] = autocorrentropy2(data, sigma=sigma) #.reshape((100, -1))\n",
      "    #y[first:last] = correlation(data, sigma=sigma) #.reshape((100, -1))\n",
      "    labels[first:last] = b[1][:,0]\n",
      "    \n",
      "labels = labels.astype('int')"
     ],
     "language": "python",
     "metadata": {},
     "outputs": [
      {
       "output_type": "stream",
       "stream": "stdout",
       "text": [
        "0\n"
       ]
      }
     ],
     "prompt_number": 13
    },
    {
     "cell_type": "code",
     "collapsed": false,
     "input": [
      "# zt = np.zeros((4*leng, 20))\n",
      "# txt = np.zeros((6*leng, 20, 784))\n",
      "yt = np.zeros((6*leng, 20, 784))\n",
      "\n",
      "labelst = np.zeros(6*leng)\n",
      "\n",
      "for i,b in enumerate(trainstream.get_epoch_iterator()):\n",
      "    print i\n",
      "    first = i*batch_size\n",
      "    last = (i+1)*batch_size\n",
      "    data = b[0].transpose(1, 0, 2)\n",
      "    # zt[first:last] = autocorrentropy(data, sigma=sigma)\n",
      "    # xt[first:last] = data.reshape((100, -1))\n",
      "    yt[first:last] = autocorrentropy2(data, sigma=sigma) # .reshape((100, -1))\n",
      "    # yt[first:last] = correlation(data, sigma=sigma) # .reshape((100, -1))\n",
      "    labelst[first:last] = b[1][:,0]\n",
      "    \n",
      "labelst = labelst.astype('int')"
     ],
     "language": "python",
     "metadata": {},
     "outputs": [
      {
       "output_type": "stream",
       "stream": "stdout",
       "text": [
        "0\n",
        "1"
       ]
      },
      {
       "output_type": "stream",
       "stream": "stdout",
       "text": [
        "\n",
        "2"
       ]
      },
      {
       "output_type": "stream",
       "stream": "stdout",
       "text": [
        "\n",
        "3"
       ]
      },
      {
       "output_type": "stream",
       "stream": "stdout",
       "text": [
        "\n",
        "4"
       ]
      },
      {
       "output_type": "stream",
       "stream": "stdout",
       "text": [
        "\n",
        "5"
       ]
      },
      {
       "output_type": "stream",
       "stream": "stdout",
       "text": [
        "\n"
       ]
      }
     ],
     "prompt_number": 14
    },
    {
     "cell_type": "code",
     "collapsed": false,
     "input": [
      "print x.shape\n",
      "_ = video_grid(x[:100].transpose(1, 0, 2))"
     ],
     "language": "python",
     "metadata": {},
     "outputs": [
      {
       "output_type": "stream",
       "stream": "stdout",
       "text": [
        "(1000, 20, 784)\n"
       ]
      },
      {
       "metadata": {},
       "output_type": "display_data",
       "png": "[encoded data removed]",
       "text": [
        "<matplotlib.figure.Figure at 0x7f358e383490>"
       ]
      }
     ],
     "prompt_number": 16
    },
    {
     "cell_type": "markdown",
     "metadata": {},
     "source": [
      "<img src=\"video_grid.gif\">"
     ]
    },
    {
     "cell_type": "code",
     "collapsed": false,
     "input": [
      "x[0].shape"
     ],
     "language": "python",
     "metadata": {},
     "outputs": [
      {
       "metadata": {},
       "output_type": "pyout",
       "prompt_number": 17,
       "text": [
        "(20, 784)"
       ]
      }
     ],
     "prompt_number": 17
    },
    {
     "cell_type": "code",
     "collapsed": false,
     "input": [
      "handle = mnist_test.open()\n",
      "x = mnist_test.get_data(handle, slice(0, 100))\n",
      "\n",
      "I = grid2d(y[:100, 0, :])\n",
      "I2 = grid2d(x[0].reshape((100, 784)))\n",
      "plt.subplot(121)\n",
      "plt.imshow(I)\n",
      "plt.subplot(122)\n",
      "plt.imshow(I2)"
     ],
     "language": "python",
     "metadata": {},
     "outputs": [
      {
       "metadata": {},
       "output_type": "pyout",
       "prompt_number": 18,
       "text": [
        "<matplotlib.image.AxesImage at 0x7f35bb53bbd0>"
       ]
      },
      {
       "metadata": {},
       "output_type": "display_data",
       "png": "[encoded data removed]",
       "text": [
        "<matplotlib.figure.Figure at 0x7f35bb56e850>"
       ]
      }
     ],
     "prompt_number": 18
    },
    {
     "cell_type": "code",
     "collapsed": false,
     "input": [
      "plt.imshow(I)"
     ],
     "language": "python",
     "metadata": {},
     "outputs": [
      {
       "metadata": {},
       "output_type": "pyout",
       "prompt_number": 19,
       "text": [
        "<matplotlib.image.AxesImage at 0x7f35bb3ab6d0>"
       ]
      },
      {
       "metadata": {},
       "output_type": "display_data",
       "png": "[encoded data removed]",
       "text": [
        "<matplotlib.figure.Figure at 0x7f35bb55bcd0>"
       ]
      }
     ],
     "prompt_number": 19
    },
    {
     "cell_type": "heading",
     "level": 3,
     "metadata": {},
     "source": [
      "clf "
     ]
    },
    {
     "cell_type": "code",
     "collapsed": false,
     "input": [
      "y.shape"
     ],
     "language": "python",
     "metadata": {},
     "outputs": [
      {
       "metadata": {},
       "output_type": "pyout",
       "prompt_number": 20,
       "text": [
        "(1000, 20, 784)"
       ]
      }
     ],
     "prompt_number": 20
    },
    {
     "cell_type": "code",
     "collapsed": false,
     "input": [
      "# clf1 = KNC(n_neighbors=1).fit(zt, labelst)\n",
      "lag = 1 # np.arange(20)\n",
      "clf2 = KNC(n_neighbors=1).fit(yt[:50000,lag,:].reshape((5*leng, -1)), labelst[:5*leng])\n",
      "print clf2.score(yt[50000:60000, lag, :].reshape((leng, -1)), labelst[50000:60000])\n",
      "# clf3 = KNC(n_neighbors=1).fit(xt, labelst)"
     ],
     "language": "python",
     "metadata": {},
     "outputs": [
      {
       "ename": "ValueError",
       "evalue": "total size of new array must be unchanged",
       "output_type": "pyerr",
       "traceback": [
        "\u001b[1;31m---------------------------------------------------------------------------\u001b[0m\n\u001b[1;31mValueError\u001b[0m                                Traceback (most recent call last)",
        "\u001b[1;32m<ipython-input-21-db4ca06edf05>\u001b[0m in \u001b[0;36m<module>\u001b[1;34m()\u001b[0m\n\u001b[0;32m      1\u001b[0m \u001b[1;31m# clf1 = KNC(n_neighbors=1).fit(zt, labelst)\u001b[0m\u001b[1;33m\u001b[0m\u001b[1;33m\u001b[0m\u001b[0m\n\u001b[0;32m      2\u001b[0m \u001b[0mlag\u001b[0m \u001b[1;33m=\u001b[0m \u001b[1;36m1\u001b[0m \u001b[1;31m# np.arange(20)\u001b[0m\u001b[1;33m\u001b[0m\u001b[0m\n\u001b[1;32m----> 3\u001b[1;33m \u001b[0mclf2\u001b[0m \u001b[1;33m=\u001b[0m \u001b[0mKNC\u001b[0m\u001b[1;33m(\u001b[0m\u001b[0mn_neighbors\u001b[0m\u001b[1;33m=\u001b[0m\u001b[1;36m1\u001b[0m\u001b[1;33m)\u001b[0m\u001b[1;33m.\u001b[0m\u001b[0mfit\u001b[0m\u001b[1;33m(\u001b[0m\u001b[0myt\u001b[0m\u001b[1;33m[\u001b[0m\u001b[1;33m:\u001b[0m\u001b[1;36m50000\u001b[0m\u001b[1;33m,\u001b[0m\u001b[0mlag\u001b[0m\u001b[1;33m,\u001b[0m\u001b[1;33m:\u001b[0m\u001b[1;33m]\u001b[0m\u001b[1;33m.\u001b[0m\u001b[0mreshape\u001b[0m\u001b[1;33m(\u001b[0m\u001b[1;33m(\u001b[0m\u001b[1;36m5\u001b[0m\u001b[1;33m*\u001b[0m\u001b[0mleng\u001b[0m\u001b[1;33m,\u001b[0m \u001b[1;33m-\u001b[0m\u001b[1;36m1\u001b[0m\u001b[1;33m)\u001b[0m\u001b[1;33m)\u001b[0m\u001b[1;33m,\u001b[0m \u001b[0mlabelst\u001b[0m\u001b[1;33m[\u001b[0m\u001b[1;33m:\u001b[0m\u001b[1;36m5\u001b[0m\u001b[1;33m*\u001b[0m\u001b[0mleng\u001b[0m\u001b[1;33m]\u001b[0m\u001b[1;33m)\u001b[0m\u001b[1;33m\u001b[0m\u001b[0m\n\u001b[0m\u001b[0;32m      4\u001b[0m \u001b[1;32mprint\u001b[0m \u001b[0mclf2\u001b[0m\u001b[1;33m.\u001b[0m\u001b[0mscore\u001b[0m\u001b[1;33m(\u001b[0m\u001b[0myt\u001b[0m\u001b[1;33m[\u001b[0m\u001b[1;36m50000\u001b[0m\u001b[1;33m:\u001b[0m\u001b[1;36m60000\u001b[0m\u001b[1;33m,\u001b[0m \u001b[0mlag\u001b[0m\u001b[1;33m,\u001b[0m \u001b[1;33m:\u001b[0m\u001b[1;33m]\u001b[0m\u001b[1;33m.\u001b[0m\u001b[0mreshape\u001b[0m\u001b[1;33m(\u001b[0m\u001b[1;33m(\u001b[0m\u001b[0mleng\u001b[0m\u001b[1;33m,\u001b[0m \u001b[1;33m-\u001b[0m\u001b[1;36m1\u001b[0m\u001b[1;33m)\u001b[0m\u001b[1;33m)\u001b[0m\u001b[1;33m,\u001b[0m \u001b[0mlabelst\u001b[0m\u001b[1;33m[\u001b[0m\u001b[1;36m50000\u001b[0m\u001b[1;33m:\u001b[0m\u001b[1;36m60000\u001b[0m\u001b[1;33m]\u001b[0m\u001b[1;33m)\u001b[0m\u001b[1;33m\u001b[0m\u001b[0m\n\u001b[0;32m      5\u001b[0m \u001b[1;31m# clf3 = KNC(n_neighbors=1).fit(xt, labelst)\u001b[0m\u001b[1;33m\u001b[0m\u001b[1;33m\u001b[0m\u001b[0m\n",
        "\u001b[1;31mValueError\u001b[0m: total size of new array must be unchanged"
       ]
      }
     ],
     "prompt_number": 21
    },
    {
     "cell_type": "code",
     "collapsed": false,
     "input": [
      "def plot_confusion_matrix(cm, labels, title='Confusion matrix', cmap=plt.cm.Blues):\n",
      "    plt.imshow(cm, interpolation='nearest', cmap=cmap)\n",
      "    plt.title(title)\n",
      "    plt.colorbar()\n",
      "    tick_marks = np.arange(len(labels))\n",
      "    plt.xticks(tick_marks, labels, rotation=45)\n",
      "    plt.yticks(tick_marks, labels)\n",
      "    plt.tight_layout()\n",
      "    plt.ylabel('True label')\n",
      "    plt.xlabel('Predicted label')"
     ],
     "language": "python",
     "metadata": {},
     "outputs": [],
     "prompt_number": 22
    },
    {
     "cell_type": "code",
     "collapsed": false,
     "input": [
      "for lag in range(20):\n",
      "    print \"lag: %d\" % lag\n",
      "    lagvec = lag\n",
      "    clf2 = KNC(n_neighbors=1).fit(yt[:,lagvec,:].reshape((6*leng, -1)), labelst)\n",
      "    print clf2.score(y[:, lagvec, :].reshape((leng, -1)), labels)\n",
      "    # clf3 = KNC(n_neighbors=1).fit(xt, labelst)"
     ],
     "language": "python",
     "metadata": {},
     "outputs": [
      {
       "output_type": "stream",
       "stream": "stdout",
       "text": [
        "lag: 0\n",
        "0.107"
       ]
      },
      {
       "output_type": "stream",
       "stream": "stdout",
       "text": [
        "\n",
        "lag: 1\n",
        "0.118"
       ]
      },
      {
       "output_type": "stream",
       "stream": "stdout",
       "text": [
        "\n",
        "lag: 2\n",
        "0.12"
       ]
      },
      {
       "output_type": "stream",
       "stream": "stdout",
       "text": [
        "\n",
        "lag: 3\n",
        "0.12"
       ]
      },
      {
       "output_type": "stream",
       "stream": "stdout",
       "text": [
        "\n",
        "lag: 4\n",
        "0.119"
       ]
      },
      {
       "output_type": "stream",
       "stream": "stdout",
       "text": [
        "\n",
        "lag: 5\n",
        "0.121"
       ]
      },
      {
       "output_type": "stream",
       "stream": "stdout",
       "text": [
        "\n",
        "lag: 6\n",
        "0.119"
       ]
      },
      {
       "output_type": "stream",
       "stream": "stdout",
       "text": [
        "\n",
        "lag: 7\n",
        "0.12"
       ]
      },
      {
       "output_type": "stream",
       "stream": "stdout",
       "text": [
        "\n",
        "lag: 8\n",
        "0.12"
       ]
      },
      {
       "output_type": "stream",
       "stream": "stdout",
       "text": [
        "\n",
        "lag: 9\n",
        "0.119"
       ]
      },
      {
       "output_type": "stream",
       "stream": "stdout",
       "text": [
        "\n",
        "lag: 10\n",
        "0.12"
       ]
      },
      {
       "output_type": "stream",
       "stream": "stdout",
       "text": [
        "\n",
        "lag: 11\n",
        "0.119"
       ]
      },
      {
       "output_type": "stream",
       "stream": "stdout",
       "text": [
        "\n",
        "lag: 12\n",
        "0.117"
       ]
      },
      {
       "output_type": "stream",
       "stream": "stdout",
       "text": [
        "\n",
        "lag: 13\n",
        "0.117"
       ]
      },
      {
       "output_type": "stream",
       "stream": "stdout",
       "text": [
        "\n",
        "lag: 14\n",
        "0.114"
       ]
      },
      {
       "output_type": "stream",
       "stream": "stdout",
       "text": [
        "\n",
        "lag: 15\n",
        "0.113"
       ]
      },
      {
       "output_type": "stream",
       "stream": "stdout",
       "text": [
        "\n",
        "lag: 16\n",
        "0.112"
       ]
      },
      {
       "output_type": "stream",
       "stream": "stdout",
       "text": [
        "\n",
        "lag: 17\n",
        "0.112"
       ]
      },
      {
       "output_type": "stream",
       "stream": "stdout",
       "text": [
        "\n",
        "lag: 18\n",
        "0.114"
       ]
      },
      {
       "output_type": "stream",
       "stream": "stdout",
       "text": [
        "\n",
        "lag: 19\n",
        "0.109"
       ]
      },
      {
       "output_type": "stream",
       "stream": "stdout",
       "text": [
        "\n"
       ]
      }
     ],
     "prompt_number": 23
    },
    {
     "cell_type": "code",
     "collapsed": false,
     "input": [
      "from sklearn.metrics import confusion_matrix\n",
      "l_pred = clf2.predict(y.reshape((leng, -1)))\n",
      "cm = confusion_matrix(labels, l_pred)\n",
      "plot_confusion_matrix(cm, np.arange(10))"
     ],
     "language": "python",
     "metadata": {},
     "outputs": []
    },
    {
     "cell_type": "code",
     "collapsed": false,
     "input": [
      "print clf1.score(z, labels)\n",
      "print clf2.score(y, labels)\n",
      "print clf3.score(x, labels)"
     ],
     "language": "python",
     "metadata": {},
     "outputs": []
    },
    {
     "cell_type": "code",
     "collapsed": false,
     "input": [
      "plt.plot(z[:10].T)"
     ],
     "language": "python",
     "metadata": {},
     "outputs": []
    },
    {
     "cell_type": "code",
     "collapsed": false,
     "input": [
      "tsne = TSNE(perplexity=40)\n",
      "ebd, tsne = embedding2d(z, method=tsne)\n",
      "_ = embedding2dplot(ebd, labels)"
     ],
     "language": "python",
     "metadata": {
      "scrolled": true
     },
     "outputs": []
    },
    {
     "cell_type": "code",
     "collapsed": false,
     "input": [
      "tsne = TSNE(perplexity=40)\n",
      "ebd, tsne = embedding2d(y[:,0,:], method=tsne)\n",
      "_ = embedding2dplot(ebd, labels)"
     ],
     "language": "python",
     "metadata": {},
     "outputs": []
    },
    {
     "cell_type": "code",
     "collapsed": false,
     "input": [
      "tsne = TSNE(perplexity=40)\n",
      "ebd, tsne = embedding2d(x, method=tsne)\n",
      "_ = embedding2dplot(ebd, labels)"
     ],
     "language": "python",
     "metadata": {},
     "outputs": []
    },
    {
     "cell_type": "heading",
     "level": 1,
     "metadata": {
      "collapsed": true
     },
     "source": [
      "Cross-correntropy"
     ]
    },
    {
     "cell_type": "code",
     "collapsed": true,
     "input": [
      "from sklearn.manifold.t_sne import TSNE\n",
      "from agnez import embedding2d, embedding2dplot"
     ],
     "language": "python",
     "metadata": {},
     "outputs": []
    },
    {
     "cell_type": "code",
     "collapsed": false,
     "input": [
      "x = np.zeros((leng, 20, 784))\n",
      "labels = np.zeros(leng)\n",
      "for i,b in enumerate(teststream.get_epoch_iterator()):\n",
      "    first = i*100\n",
      "    last = (i+1)*100\n",
      "    data = b[0].transpose(1, 0, 2)\n",
      "    x[first:last] = data\n",
      "    labels[first:last] = b[1][:,0]\n",
      "print x.shape\n",
      "labels = labels.astype('int')"
     ],
     "language": "python",
     "metadata": {},
     "outputs": []
    },
    {
     "cell_type": "code",
     "collapsed": false,
     "input": [
      "V = crosscorrentropy(x)"
     ],
     "language": "python",
     "metadata": {},
     "outputs": []
    },
    {
     "cell_type": "code",
     "collapsed": false,
     "input": [
      "tsne = TSNE(perplexity=40, metric='precomputed')\n",
      "ebd, tsne = embedding2d(V, method=tsne)\n",
      "_ = embedding2dplot(ebd, labels)"
     ],
     "language": "python",
     "metadata": {},
     "outputs": []
    },
    {
     "cell_type": "code",
     "collapsed": false,
     "input": [
      "V = crosscorrelation(x)"
     ],
     "language": "python",
     "metadata": {},
     "outputs": []
    },
    {
     "cell_type": "code",
     "collapsed": false,
     "input": [
      "def V(shape, ksize=.5):\n",
      "    def func(x, y, **kwargs):\n",
      "        #N = len(x)\n",
      "        #return ((x-y)**2).sum()\n",
      "        #return (x**2).sum() + (y**2).sum() -2*(x*y).sum()\n",
      "        t = shape[0]\n",
      "        N = shape[1]\n",
      "        x = x.reshape(shape)\n",
      "        y = y.reshape(shape)\n",
      "        V1 = np.zeros(t)\n",
      "        V2 = np.zeros(t)\n",
      "        for i in range(t):\n",
      "            V1[i] = np.exp(-ksize*(x[:(t-i)] - y[i:])**2).sum() / (t-i)\n",
      "            V2[i] = np.exp(-ksize*(x[i:] - y[:(t-i)])**2).sum() / (t-i)\n",
      "        return N - (.5*(V1+V2)).max()\n",
      "    return func\n",
      "\n",
      "def S(shape, ksize=.5):\n",
      "    def func(x, y, **kwargs):\n",
      "        #N = len(x)\n",
      "        #return ((x-y)**2).sum()\n",
      "        #return (x**2).sum() + (y**2).sum() -2*(x*y).sum()\n",
      "        t = shape[0]\n",
      "        N = shape[1]\n",
      "        x = x.reshape(shape)\n",
      "        y = y.reshape(shape)\n",
      "        X = fft(x, axis=0)\n",
      "        Y = fft(y, axis=0)\n",
      "        # F = ((abs(X)-abs(Y))**2).sum()\n",
      "        F = abs(X * np.conj(Y)).sum()\n",
      "        D = abs(X).sum() * abs(Y).sum()\n",
      "        return 1 - F / D\n",
      "    return func\n",
      "\n",
      "data = x.reshape((leng, -1))\n",
      "# V = ((data[:, None, :] - data)**2).sum(axis=-1)\n",
      "\n",
      "tsne = TSNE(perplexity=40, metric=V((20,784)), verbose=True)\n",
      "ebd = tsne.fit_transform(data)\n",
      "cPickle.dump(ebd, file('ebd.pkl','w'))\n",
      "_ = embedding2dplot(ebd, labels)"
     ],
     "language": "python",
     "metadata": {},
     "outputs": []
    },
    {
     "cell_type": "code",
     "collapsed": false,
     "input": [
      "ebd = cPickle.load(file('ebd.pkl', 'r'))\n",
      "_ = embedding2dplot(ebd, labels)"
     ],
     "language": "python",
     "metadata": {},
     "outputs": []
    },
    {
     "cell_type": "code",
     "collapsed": false,
     "input": [
      "from agnez import image_sequence\n",
      "for b in teststream.get_epoch_iterator():\n",
      "    break\n",
      "x = b[0]\n",
      "A1 = image_sequence(x[:,0,:], (28, 28))\n",
      "A2 = image_sequence(x[:,1,:], (28, 28))\n",
      "A3 = image_sequence(x[:,2,:], (28, 28))\n",
      "A = np.vstack([A1, A2, A3])\n",
      "f = plt.figure(figsize=(10,10))\n",
      "imshow(A)"
     ],
     "language": "python",
     "metadata": {},
     "outputs": []
    },
    {
     "cell_type": "code",
     "collapsed": false,
     "input": [
      "x.shape"
     ],
     "language": "python",
     "metadata": {},
     "outputs": []
    },
    {
     "cell_type": "code",
     "collapsed": true,
     "input": [],
     "language": "python",
     "metadata": {},
     "outputs": []
    }
   ],
   "metadata": {}
  }
 ]
}