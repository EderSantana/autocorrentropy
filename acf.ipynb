{
 "metadata": {
  "kernelspec": {
   "display_name": "Python 2",
   "language": "python",
   "name": "python2"
  },
  "language_info": {
   "codemirror_mode": {
    "name": "ipython",
    "version": 2
   },
   "file_extension": ".py",
   "mimetype": "text/x-python",
   "name": "python",
   "nbconvert_exporter": "python",
   "pygments_lexer": "ipython2",
   "version": "2.7.10"
  },
  "name": "",
  "signature": "sha256:f7288ab68414e8bc4986484aca884c3987b37088e139b0c8f644592b96d1298c"
 },
 "nbformat": 3,
 "nbformat_minor": 0,
 "worksheets": [
  {
   "cells": [
    {
     "cell_type": "code",
     "collapsed": true,
     "input": [
      "from progressbar import AnimatedMarker, Bar, BouncingBar, Counter, ETA, \\\n",
      "    FileTransferSpeed, FormatLabel, Percentage, \\\n",
      "    ProgressBar, ReverseBar, RotatingMarker, \\\n",
      "    SimpleProgress, Timer, AdaptiveETA, AdaptiveTransferSpeed\n",
      "\n",
      "examples = []\n",
      "\n",
      "import sys\n",
      "import time"
     ],
     "language": "python",
     "metadata": {},
     "outputs": []
    },
    {
     "cell_type": "code",
     "collapsed": false,
     "input": [
      "%matplotlib inline\n",
      "\n",
      "from numpy.fft import fft\n",
      "import theano\n",
      "import cPickle\n",
      "import numpy as np\n",
      "from theano import tensor, function\n",
      "from pylab import imshow\n",
      "from pylab import rcParams\n",
      "\n",
      "from IPython.display import Image\n",
      "from agnez.weight import grid2d\n",
      "from fuel.datasets import MNIST\n",
      "from fuel.streams import DataStream\n",
      "from fuel.transformers import Mapping, Flatten\n",
      "from fuel.schemes import SequentialScheme\n",
      "from blocks.bricks.cost import MisclassificationRate\n",
      "\n",
      "from blocks_contrib.probability import Pserver\n",
      "from blocks_contrib.datasets import rotated_dataset, Meanizer\n",
      "from sklearn.manifold.t_sne import TSNE\n",
      "from sklearn.linear_model import LogisticRegression\n",
      "\n",
      "from agnez import embedding2d, embedding2dplot, video_grid\n",
      "\n",
      "import seaborn as sns\n",
      "sns.set_style('dark')\n",
      "sns.set_palette('muted')\n",
      "sns.set_context(\"notebook\", font_scale=1.5,\n",
      "                rc={\"lines.linewidth\": 2.5})\n",
      "import matplotlib.pyplot as plt\n",
      "\n",
      "from sklearn.neighbors import KNeighborsClassifier as KNC"
     ],
     "language": "python",
     "metadata": {},
     "outputs": []
    },
    {
     "cell_type": "code",
     "collapsed": false,
     "input": [
      "def _circshift(data):\n",
      "    b = data[0]\n",
      "    for i in range(data[0].shape[1]):\n",
      "        bi = data[0][:, i, :]\n",
      "        bi[10:] = 0\n",
      "        bi[:, 10:] = 0*bi[:, 10:]\n",
      "        n = np.random.randint(0, 20, 1)\n",
      "        b[:, i, :] = np.roll(bi, n, axis=0)\n",
      "    return (b, data[1])"
     ],
     "language": "python",
     "metadata": {},
     "outputs": []
    },
    {
     "cell_type": "code",
     "collapsed": false,
     "input": [
      "    leng = 10000\n",
      "    batch_size=1000\n",
      "    mnist_test = MNIST(\"test\") #, subset=slice(60000,leng+60000))\n",
      "    teststream = Mapping(Flatten(DataStream(mnist_test,\n",
      "                             iteration_scheme=SequentialScheme(\n",
      "                                 leng,\n",
      "                                 batch_size))), rotated_dataset(20))\n",
      "    teststream = Mapping(teststream, _circshift)\n",
      "    \n",
      "    mnist_train = MNIST(\"train\", subset=slice(0,6*leng))\n",
      "    trainstream = Mapping(Flatten(DataStream(mnist_train,\n",
      "                             iteration_scheme=SequentialScheme(\n",
      "                                 6*leng,\n",
      "                                 batch_size))), rotated_dataset(20))\n",
      "    trainstream = Mapping(trainstream, _circshift)\n",
      "    # meanizer = Meanizer(trainstream)\n",
      "    # trainstream = Mapping(trainstream, meanizer.meanless)\n",
      "    # teststream = Mapping(teststream, meanizer.meanless)"
     ],
     "language": "python",
     "metadata": {},
     "outputs": []
    },
    {
     "cell_type": "heading",
     "level": 4,
     "metadata": {},
     "source": [
      "Load models and data"
     ]
    },
    {
     "cell_type": "code",
     "collapsed": false,
     "input": [
      "def autocorrentropy(X, sigma=1):\n",
      "    b, t, d = X.shape\n",
      "    V = np.zeros((b, t))\n",
      "    nor = np.sqrt(2*np.pi)*sigma\n",
      "    dem = 2*sigma**2\n",
      "    for i in range(b):\n",
      "        for j in range(t):\n",
      "            V[i, j] = np.exp((-(X[i, :(t-j)]-X[i, j:])**2).sum() / dem / (t-j)) / nor\n",
      "    return V\n",
      "\n",
      "def autocorrentropy2(X, sigma=1):\n",
      "    b, t, d = X.shape\n",
      "    V = np.zeros((b, t, d))\n",
      "    nor = np.sqrt(2*np.pi)*sigma\n",
      "    dem = 2*sigma**2\n",
      "    for i in range(b):\n",
      "        for j in range(t):\n",
      "            V[i, j, :] = np.exp((-(X[i, :(t-j), :]-X[i, j:, :])**2) / dem).sum(axis=0) / (t-j)\n",
      "            #V[i, j, :] = ((X[i, :(t-j), :]-X[i, j:, :])**2).sum(axis=0)\n",
      "    #V = V - V.mean(axis=(0,1))[None, None, :]\n",
      "    return V\n",
      "\n",
      "def correlation(X, sigma=1):\n",
      "    b, t, d = X.shape\n",
      "    V = np.zeros((b, t, d))\n",
      "    nor = np.sqrt(2*np.pi)*sigma\n",
      "    dem = 2*sigma**2\n",
      "    for i in range(b):\n",
      "        for j in range(t):\n",
      "            a = X[i, :(t-j), :]\n",
      "            b = X[i, j:, :]\n",
      "            #ma = a.mean\n",
      "            #asq = (a**2).mean()\n",
      "            #mb = b.mean\n",
      "            #bsq = (b**2).mean()\n",
      "            V[i, j, :] = (a*b).sum(axis=0) / (t-j)\n",
      "    return V\n",
      "\n",
      "def example(fn):\n",
      "    def wrapped(X):\n",
      "        try:\n",
      "            sys.stdout.write('Running: %s\\n' % fn.__name__)\n",
      "            V = fn(X)\n",
      "            sys.stdout.write('\\n')\n",
      "        except KeyboardInterrupt:\n",
      "            sys.stdout.write('\\nSkipping example.\\n\\n')\n",
      "        return V\n",
      "\n",
      "    examples.append(wrapped)\n",
      "    return wrapped\n",
      "\n",
      "@example\n",
      "def crosscorrelation(X):\n",
      "    b, t, d = X.shape\n",
      "    V = np.zeros((b, b))\n",
      "    v1 = np.zeros(t)\n",
      "    v2 = np.zeros(t)\n",
      "    with ProgressBar(maxval=b) as progress:\n",
      "        for i in range(b):\n",
      "            progress.update(i)\n",
      "            for j in range(b):\n",
      "                for k in range(0):\n",
      "                    v1[k] = ((X[i, :(t-k), :] - X[j, k:, :])**2 / (t-k)).sum()\n",
      "                    v2[k] = ((X[i, k:, :] - X[j, :(t-k), :])**2 / (t-k)).sum()\n",
      "                V[i, j] = v1[0] #+v2[0]/2#(v1+v2).min() / 2\n",
      "    return V\n",
      "\n",
      "@example\n",
      "def crosscorrentropy(X, sigma=1):\n",
      "    b, t, d = X.shape\n",
      "    V = np.zeros((b, b))\n",
      "    v1 = np.zeros(t)\n",
      "    v2 = np.zeros(t)\n",
      "    nor = np.sqrt(2*np.pi)*sigma\n",
      "    dem = 2*sigma**2\n",
      "    with ProgressBar(maxval=b) as progress:\n",
      "        for i in range(b):\n",
      "            progress.update(i)\n",
      "            for j in range(b):\n",
      "                for k in range(t):\n",
      "                    v1[k] = np.exp(-((X[i, :(t-k), :] - X[j, k:, :])**2 / (t-k)).sum() / dem) / nor\n",
      "                    v2[k] = np.exp(-((X[i, k:, :] - X[j, :(t-k), :])**2 / (t-k)).sum() / dem) / nor\n",
      "                V[i, j] = (v1+v2).max() / 2\n",
      "    return V"
     ],
     "language": "python",
     "metadata": {},
     "outputs": []
    },
    {
     "cell_type": "code",
     "collapsed": false,
     "input": [
      "X = np.random.normal(0, 1, (100, 20, 784))\n",
      "V = autocorrentropy2(X)\n",
      "_ = plt.plot(V[1])"
     ],
     "language": "python",
     "metadata": {},
     "outputs": []
    },
    {
     "cell_type": "code",
     "collapsed": false,
     "input": [
      "V = crosscorrentropy(X)\n",
      "print V.shape"
     ],
     "language": "python",
     "metadata": {},
     "outputs": []
    },
    {
     "cell_type": "code",
     "collapsed": false,
     "input": [
      "imshow(V)"
     ],
     "language": "python",
     "metadata": {},
     "outputs": []
    },
    {
     "cell_type": "code",
     "collapsed": false,
     "input": [
      "# z = np.zeros((leng, 20))\n",
      "x = np.zeros((leng, 20, 784))\n",
      "y = np.zeros((leng, 20, 784))\n",
      "\n",
      "labels = np.zeros(leng)\n",
      "\n",
      "sigma=.1\n",
      "for i,b in enumerate(teststream.get_epoch_iterator()):\n",
      "    print i\n",
      "    first = i*batch_size\n",
      "    last = (i+1)*batch_size\n",
      "    data = b[0].transpose(1, 0, 2)\n",
      "    # z[first:last] = autocorrentropy(data, sigma=sigma)\n",
      "    #x[first:last] = data\n",
      "    y[first:last] = autocorrentropy2(data, sigma=sigma) #.reshape((100, -1))\n",
      "    #y[first:last] = correlation(data, sigma=sigma) #.reshape((100, -1))\n",
      "    labels[first:last] = b[1][:,0]\n",
      "    \n",
      "labels = labels.astype('int')"
     ],
     "language": "python",
     "metadata": {},
     "outputs": [
      {
       "output_type": "stream",
       "stream": "stdout",
       "text": [
        "0\n",
        "1"
       ]
      },
      {
       "output_type": "stream",
       "stream": "stdout",
       "text": [
        "\n",
        "2"
       ]
      },
      {
       "output_type": "stream",
       "stream": "stdout",
       "text": [
        "\n",
        "3"
       ]
      },
      {
       "output_type": "stream",
       "stream": "stdout",
       "text": [
        "\n",
        "4"
       ]
      },
      {
       "output_type": "stream",
       "stream": "stdout",
       "text": [
        "\n",
        "5"
       ]
      },
      {
       "output_type": "stream",
       "stream": "stdout",
       "text": [
        "\n",
        "6"
       ]
      },
      {
       "output_type": "stream",
       "stream": "stdout",
       "text": [
        "\n",
        "7"
       ]
      },
      {
       "output_type": "stream",
       "stream": "stdout",
       "text": [
        "\n",
        "8"
       ]
      },
      {
       "output_type": "stream",
       "stream": "stdout",
       "text": [
        "\n",
        "9"
       ]
      },
      {
       "output_type": "stream",
       "stream": "stdout",
       "text": [
        "\n"
       ]
      }
     ],
     "prompt_number": 8
    },
    {
     "cell_type": "code",
     "collapsed": false,
     "input": [
      "# zt = np.zeros((4*leng, 20))\n",
      "# txt = np.zeros((6*leng, 20, 784))\n",
      "yt = np.zeros((6*leng, 20, 784))\n",
      "\n",
      "labelst = np.zeros(6*leng)\n",
      "\n",
      "for i,b in enumerate(trainstream.get_epoch_iterator()):\n",
      "    print i\n",
      "    first = i*batch_size\n",
      "    last = (i+1)*batch_size\n",
      "    data = b[0].transpose(1, 0, 2)\n",
      "    # zt[first:last] = autocorrentropy(data, sigma=sigma)\n",
      "    # xt[first:last] = data.reshape((100, -1))\n",
      "    yt[first:last] = autocorrentropy2(data, sigma=sigma) # .reshape((100, -1))\n",
      "    # yt[first:last] = correlation(data, sigma=sigma) # .reshape((100, -1))\n",
      "    labelst[first:last] = b[1][:,0]\n",
      "    \n",
      "labelst = labelst.astype('int')"
     ],
     "language": "python",
     "metadata": {},
     "outputs": [
      {
       "output_type": "stream",
       "stream": "stdout",
       "text": [
        "0\n",
        "1"
       ]
      },
      {
       "output_type": "stream",
       "stream": "stdout",
       "text": [
        "\n",
        "2"
       ]
      },
      {
       "output_type": "stream",
       "stream": "stdout",
       "text": [
        "\n",
        "3"
       ]
      },
      {
       "output_type": "stream",
       "stream": "stdout",
       "text": [
        "\n",
        "4"
       ]
      },
      {
       "output_type": "stream",
       "stream": "stdout",
       "text": [
        "\n",
        "5"
       ]
      },
      {
       "output_type": "stream",
       "stream": "stdout",
       "text": [
        "\n",
        "6"
       ]
      },
      {
       "output_type": "stream",
       "stream": "stdout",
       "text": [
        "\n",
        "7"
       ]
      },
      {
       "output_type": "stream",
       "stream": "stdout",
       "text": [
        "\n",
        "8"
       ]
      },
      {
       "output_type": "stream",
       "stream": "stdout",
       "text": [
        "\n",
        "9"
       ]
      },
      {
       "output_type": "stream",
       "stream": "stdout",
       "text": [
        "\n",
        "10"
       ]
      },
      {
       "output_type": "stream",
       "stream": "stdout",
       "text": [
        "\n",
        "11"
       ]
      },
      {
       "output_type": "stream",
       "stream": "stdout",
       "text": [
        "\n",
        "12"
       ]
      },
      {
       "output_type": "stream",
       "stream": "stdout",
       "text": [
        "\n",
        "13"
       ]
      },
      {
       "output_type": "stream",
       "stream": "stdout",
       "text": [
        "\n",
        "14"
       ]
      },
      {
       "output_type": "stream",
       "stream": "stdout",
       "text": [
        "\n",
        "15"
       ]
      },
      {
       "output_type": "stream",
       "stream": "stdout",
       "text": [
        "\n",
        "16"
       ]
      },
      {
       "output_type": "stream",
       "stream": "stdout",
       "text": [
        "\n",
        "17"
       ]
      },
      {
       "output_type": "stream",
       "stream": "stdout",
       "text": [
        "\n",
        "18"
       ]
      },
      {
       "output_type": "stream",
       "stream": "stdout",
       "text": [
        "\n",
        "19"
       ]
      },
      {
       "output_type": "stream",
       "stream": "stdout",
       "text": [
        "\n",
        "20"
       ]
      },
      {
       "output_type": "stream",
       "stream": "stdout",
       "text": [
        "\n",
        "21"
       ]
      },
      {
       "output_type": "stream",
       "stream": "stdout",
       "text": [
        "\n",
        "22"
       ]
      },
      {
       "output_type": "stream",
       "stream": "stdout",
       "text": [
        "\n",
        "23"
       ]
      },
      {
       "output_type": "stream",
       "stream": "stdout",
       "text": [
        "\n",
        "24"
       ]
      },
      {
       "output_type": "stream",
       "stream": "stdout",
       "text": [
        "\n",
        "25"
       ]
      },
      {
       "output_type": "stream",
       "stream": "stdout",
       "text": [
        "\n",
        "26"
       ]
      },
      {
       "output_type": "stream",
       "stream": "stdout",
       "text": [
        "\n",
        "27"
       ]
      },
      {
       "output_type": "stream",
       "stream": "stdout",
       "text": [
        "\n",
        "28"
       ]
      },
      {
       "output_type": "stream",
       "stream": "stdout",
       "text": [
        "\n",
        "29"
       ]
      },
      {
       "output_type": "stream",
       "stream": "stdout",
       "text": [
        "\n",
        "30"
       ]
      },
      {
       "output_type": "stream",
       "stream": "stdout",
       "text": [
        "\n",
        "31"
       ]
      },
      {
       "output_type": "stream",
       "stream": "stdout",
       "text": [
        "\n",
        "32"
       ]
      },
      {
       "output_type": "stream",
       "stream": "stdout",
       "text": [
        "\n",
        "33"
       ]
      },
      {
       "output_type": "stream",
       "stream": "stdout",
       "text": [
        "\n",
        "34"
       ]
      },
      {
       "output_type": "stream",
       "stream": "stdout",
       "text": [
        "\n",
        "35"
       ]
      },
      {
       "output_type": "stream",
       "stream": "stdout",
       "text": [
        "\n",
        "36"
       ]
      },
      {
       "output_type": "stream",
       "stream": "stdout",
       "text": [
        "\n",
        "37"
       ]
      },
      {
       "output_type": "stream",
       "stream": "stdout",
       "text": [
        "\n",
        "38"
       ]
      },
      {
       "output_type": "stream",
       "stream": "stdout",
       "text": [
        "\n",
        "39"
       ]
      },
      {
       "output_type": "stream",
       "stream": "stdout",
       "text": [
        "\n",
        "40"
       ]
      },
      {
       "output_type": "stream",
       "stream": "stdout",
       "text": [
        "\n",
        "41"
       ]
      },
      {
       "output_type": "stream",
       "stream": "stdout",
       "text": [
        "\n",
        "42"
       ]
      },
      {
       "output_type": "stream",
       "stream": "stdout",
       "text": [
        "\n",
        "43"
       ]
      },
      {
       "output_type": "stream",
       "stream": "stdout",
       "text": [
        "\n",
        "44"
       ]
      },
      {
       "output_type": "stream",
       "stream": "stdout",
       "text": [
        "\n",
        "45"
       ]
      },
      {
       "output_type": "stream",
       "stream": "stdout",
       "text": [
        "\n",
        "46"
       ]
      },
      {
       "output_type": "stream",
       "stream": "stdout",
       "text": [
        "\n",
        "47"
       ]
      },
      {
       "output_type": "stream",
       "stream": "stdout",
       "text": [
        "\n",
        "48"
       ]
      },
      {
       "output_type": "stream",
       "stream": "stdout",
       "text": [
        "\n",
        "49"
       ]
      },
      {
       "output_type": "stream",
       "stream": "stdout",
       "text": [
        "\n",
        "50"
       ]
      },
      {
       "output_type": "stream",
       "stream": "stdout",
       "text": [
        "\n",
        "51"
       ]
      },
      {
       "output_type": "stream",
       "stream": "stdout",
       "text": [
        "\n",
        "52"
       ]
      },
      {
       "output_type": "stream",
       "stream": "stdout",
       "text": [
        "\n",
        "53"
       ]
      },
      {
       "output_type": "stream",
       "stream": "stdout",
       "text": [
        "\n",
        "54"
       ]
      },
      {
       "output_type": "stream",
       "stream": "stdout",
       "text": [
        "\n",
        "55"
       ]
      },
      {
       "output_type": "stream",
       "stream": "stdout",
       "text": [
        "\n",
        "56"
       ]
      },
      {
       "output_type": "stream",
       "stream": "stdout",
       "text": [
        "\n",
        "57"
       ]
      },
      {
       "output_type": "stream",
       "stream": "stdout",
       "text": [
        "\n",
        "58"
       ]
      },
      {
       "output_type": "stream",
       "stream": "stdout",
       "text": [
        "\n",
        "59"
       ]
      },
      {
       "output_type": "stream",
       "stream": "stdout",
       "text": [
        "\n"
       ]
      }
     ]
    },
    {
     "cell_type": "code",
     "collapsed": false,
     "input": [
      "print x.shape\n",
      "_ = video_grid(x[:100].transpose(1, 0, 2))"
     ],
     "language": "python",
     "metadata": {},
     "outputs": []
    },
    {
     "cell_type": "markdown",
     "metadata": {},
     "source": [
      "<img src=\"video_grid.gif\">"
     ]
    },
    {
     "cell_type": "code",
     "collapsed": false,
     "input": [
      "x[0].shape"
     ],
     "language": "python",
     "metadata": {},
     "outputs": []
    },
    {
     "cell_type": "code",
     "collapsed": false,
     "input": [
      "handle = mnist_test.open()\n",
      "x = mnist_test.get_data(handle, slice(0, 100))\n",
      "\n",
      "I = grid2d(y[:100, 0, :])\n",
      "I2 = grid2d(x[0].reshape((100, 784)))\n",
      "plt.subplot(121)\n",
      "plt.imshow(I)\n",
      "plt.subplot(122)\n",
      "plt.imshow(I2)"
     ],
     "language": "python",
     "metadata": {},
     "outputs": []
    },
    {
     "cell_type": "code",
     "collapsed": false,
     "input": [
      "plt.imshow(I)"
     ],
     "language": "python",
     "metadata": {},
     "outputs": []
    },
    {
     "cell_type": "heading",
     "level": 3,
     "metadata": {},
     "source": [
      "clf "
     ]
    },
    {
     "cell_type": "code",
     "collapsed": false,
     "input": [
      "y.shape"
     ],
     "language": "python",
     "metadata": {},
     "outputs": []
    },
    {
     "cell_type": "code",
     "collapsed": false,
     "input": [
      "# clf1 = KNC(n_neighbors=1).fit(zt, labelst)\n",
      "lag = 1 # np.arange(20)\n",
      "clf2 = KNC(n_neighbors=1).fit(yt[:50000,lag,:].reshape((5*leng, -1)), labelst[:5*leng])\n",
      "print clf2.score(yt[50000:60000, lag, :].reshape((leng, -1)), labelst[50000:60000])\n",
      "# clf3 = KNC(n_neighbors=1).fit(xt, labelst)"
     ],
     "language": "python",
     "metadata": {},
     "outputs": []
    },
    {
     "cell_type": "code",
     "collapsed": false,
     "input": [
      "def plot_confusion_matrix(cm, labels, title='Confusion matrix', cmap=plt.cm.Blues):\n",
      "    plt.imshow(cm, interpolation='nearest', cmap=cmap)\n",
      "    plt.title(title)\n",
      "    plt.colorbar()\n",
      "    tick_marks = np.arange(len(labels))\n",
      "    plt.xticks(tick_marks, labels, rotation=45)\n",
      "    plt.yticks(tick_marks, labels)\n",
      "    plt.tight_layout()\n",
      "    plt.ylabel('True label')\n",
      "    plt.xlabel('Predicted label')"
     ],
     "language": "python",
     "metadata": {},
     "outputs": []
    },
    {
     "cell_type": "code",
     "collapsed": false,
     "input": [
      "for lag in range(20):\n",
      "    print \"lag: %d\" % lag\n",
      "    lagvec = lag\n",
      "    #clf2 = KNC(n_neighbors=1).fit(yt[:,lagvec,:].reshape((6*leng, -1)), labelst)\n",
      "    clf2 = LogisticRegression().fit(yt[:, lagvec, :], labelst)\n",
      "    print clf2.score(y[:, lagvec, :].reshape((leng, -1)), labels)\n",
      "    # clf3 = KNC(n_neighbors=1).fit(xt, labelst)"
     ],
     "language": "python",
     "metadata": {},
     "outputs": []
    },
    {
     "cell_type": "code",
     "collapsed": false,
     "input": [
      "from sklearn.metrics import confusion_matrix\n",
      "l_pred = clf2.predict(y.reshape((leng, -1)))\n",
      "cm = confusion_matrix(labels, l_pred)\n",
      "plot_confusion_matrix(cm, np.arange(10))"
     ],
     "language": "python",
     "metadata": {},
     "outputs": []
    },
    {
     "cell_type": "code",
     "collapsed": false,
     "input": [
      "print clf1.score(z, labels)\n",
      "print clf2.score(y, labels)\n",
      "print clf3.score(x, labels)"
     ],
     "language": "python",
     "metadata": {},
     "outputs": []
    },
    {
     "cell_type": "code",
     "collapsed": false,
     "input": [
      "plt.plot(z[:10].T)"
     ],
     "language": "python",
     "metadata": {},
     "outputs": []
    },
    {
     "cell_type": "code",
     "collapsed": false,
     "input": [
      "tsne = TSNE(perplexity=40)\n",
      "ebd, tsne = embedding2d(z, method=tsne)\n",
      "_ = embedding2dplot(ebd, labels)"
     ],
     "language": "python",
     "metadata": {
      "scrolled": true
     },
     "outputs": []
    },
    {
     "cell_type": "code",
     "collapsed": false,
     "input": [
      "tsne = TSNE(perplexity=40)\n",
      "ebd, tsne = embedding2d(y[:,0,:], method=tsne)\n",
      "_ = embedding2dplot(ebd, labels)"
     ],
     "language": "python",
     "metadata": {},
     "outputs": []
    },
    {
     "cell_type": "code",
     "collapsed": false,
     "input": [
      "tsne = TSNE(perplexity=40)\n",
      "ebd, tsne = embedding2d(x, method=tsne)\n",
      "_ = embedding2dplot(ebd, labels)"
     ],
     "language": "python",
     "metadata": {},
     "outputs": []
    },
    {
     "cell_type": "heading",
     "level": 1,
     "metadata": {
      "collapsed": true
     },
     "source": [
      "Cross-correntropy"
     ]
    },
    {
     "cell_type": "code",
     "collapsed": true,
     "input": [
      "from sklearn.manifold.t_sne import TSNE\n",
      "from agnez import embedding2d, embedding2dplot"
     ],
     "language": "python",
     "metadata": {},
     "outputs": []
    },
    {
     "cell_type": "code",
     "collapsed": false,
     "input": [
      "x = np.zeros((leng, 20, 784))\n",
      "labels = np.zeros(leng)\n",
      "for i,b in enumerate(teststream.get_epoch_iterator()):\n",
      "    first = i*100\n",
      "    last = (i+1)*100\n",
      "    data = b[0].transpose(1, 0, 2)\n",
      "    x[first:last] = data\n",
      "    labels[first:last] = b[1][:,0]\n",
      "print x.shape\n",
      "labels = labels.astype('int')"
     ],
     "language": "python",
     "metadata": {},
     "outputs": []
    },
    {
     "cell_type": "code",
     "collapsed": false,
     "input": [
      "V = crosscorrentropy(x)"
     ],
     "language": "python",
     "metadata": {},
     "outputs": []
    },
    {
     "cell_type": "code",
     "collapsed": false,
     "input": [
      "tsne = TSNE(perplexity=40, metric='precomputed')\n",
      "ebd, tsne = embedding2d(V, method=tsne)\n",
      "_ = embedding2dplot(ebd, labels)"
     ],
     "language": "python",
     "metadata": {},
     "outputs": []
    },
    {
     "cell_type": "code",
     "collapsed": false,
     "input": [
      "V = crosscorrelation(x)"
     ],
     "language": "python",
     "metadata": {},
     "outputs": []
    },
    {
     "cell_type": "code",
     "collapsed": false,
     "input": [
      "def V(shape, ksize=.5):\n",
      "    def func(x, y, **kwargs):\n",
      "        #N = len(x)\n",
      "        #return ((x-y)**2).sum()\n",
      "        #return (x**2).sum() + (y**2).sum() -2*(x*y).sum()\n",
      "        t = shape[0]\n",
      "        N = shape[1]\n",
      "        x = x.reshape(shape)\n",
      "        y = y.reshape(shape)\n",
      "        V1 = np.zeros(t)\n",
      "        V2 = np.zeros(t)\n",
      "        for i in range(t):\n",
      "            V1[i] = np.exp(-ksize*(x[:(t-i)] - y[i:])**2).sum() / (t-i)\n",
      "            V2[i] = np.exp(-ksize*(x[i:] - y[:(t-i)])**2).sum() / (t-i)\n",
      "        return N - (.5*(V1+V2)).max()\n",
      "    return func\n",
      "\n",
      "def S(shape, ksize=.5):\n",
      "    def func(x, y, **kwargs):\n",
      "        #N = len(x)\n",
      "        #return ((x-y)**2).sum()\n",
      "        #return (x**2).sum() + (y**2).sum() -2*(x*y).sum()\n",
      "        t = shape[0]\n",
      "        N = shape[1]\n",
      "        x = x.reshape(shape)\n",
      "        y = y.reshape(shape)\n",
      "        X = fft(x, axis=0)\n",
      "        Y = fft(y, axis=0)\n",
      "        # F = ((abs(X)-abs(Y))**2).sum()\n",
      "        F = abs(X * np.conj(Y)).sum()\n",
      "        D = abs(X).sum() * abs(Y).sum()\n",
      "        return 1 - F / D\n",
      "    return func\n",
      "\n",
      "data = x.reshape((leng, -1))\n",
      "# V = ((data[:, None, :] - data)**2).sum(axis=-1)\n",
      "\n",
      "tsne = TSNE(perplexity=40, metric=V((20,784)), verbose=True)\n",
      "ebd = tsne.fit_transform(data)\n",
      "cPickle.dump(ebd, file('ebd.pkl','w'))\n",
      "_ = embedding2dplot(ebd, labels)"
     ],
     "language": "python",
     "metadata": {},
     "outputs": []
    },
    {
     "cell_type": "code",
     "collapsed": false,
     "input": [
      "ebd = cPickle.load(file('ebd.pkl', 'r'))\n",
      "_ = embedding2dplot(ebd, labels)"
     ],
     "language": "python",
     "metadata": {},
     "outputs": []
    },
    {
     "cell_type": "code",
     "collapsed": false,
     "input": [
      "from agnez import image_sequence\n",
      "for b in teststream.get_epoch_iterator():\n",
      "    break\n",
      "x = b[0]\n",
      "A1 = image_sequence(x[:,0,:], (28, 28))\n",
      "A2 = image_sequence(x[:,1,:], (28, 28))\n",
      "A3 = image_sequence(x[:,2,:], (28, 28))\n",
      "A = np.vstack([A1, A2, A3])\n",
      "f = plt.figure(figsize=(10,10))\n",
      "imshow(A)"
     ],
     "language": "python",
     "metadata": {},
     "outputs": []
    },
    {
     "cell_type": "code",
     "collapsed": false,
     "input": [
      "x.shape"
     ],
     "language": "python",
     "metadata": {},
     "outputs": []
    },
    {
     "cell_type": "code",
     "collapsed": true,
     "input": [],
     "language": "python",
     "metadata": {},
     "outputs": []
    }
   ],
   "metadata": {}
  }
 ]
}