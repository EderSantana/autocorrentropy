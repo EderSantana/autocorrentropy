{
 "cells": [
  {
   "cell_type": "code",
   "execution_count": 4,
   "metadata": {
    "collapsed": false
   },
   "outputs": [],
   "source": [
    "%matplotlib inline\n",
    "\n",
    "import theano\n",
    "import cPickle\n",
    "import numpy as np\n",
    "from theano import tensor, function\n",
    "from pylab import imshow\n",
    "from pylab import rcParams\n",
    "\n",
    "from agnez.weight import grid2d\n",
    "from fuel.datasets import MNIST\n",
    "from fuel.streams import DataStream\n",
    "from fuel.transformers import Mapping, Flatten\n",
    "from fuel.schemes import SequentialScheme\n",
    "from blocks.bricks.cost import MisclassificationRate\n",
    "from rnn import allrotations, _meanize"
   ]
  },
  {
   "cell_type": "markdown",
   "metadata": {},
   "source": [
    "#### Load models and data"
   ]
  },
  {
   "cell_type": "code",
   "execution_count": 8,
   "metadata": {
    "collapsed": false
   },
   "outputs": [],
   "source": [
    "batch_size = 128\n",
    "n_steps = 20\n",
    "mnist_train = MNIST(\"train\", subset=slice(0, 50000))\n",
    "mnist_valid = MNIST(\"train\", subset=slice(50000, 60000))\n",
    "mnist_test = MNIST(\"test\")\n",
    "trainstream = Mapping(Flatten(DataStream(mnist_train,\n",
    "                          iteration_scheme=SequentialScheme(50000, batch_size))),\n",
    "                          _meanize(n_steps))\n",
    "validstream = Mapping(Flatten(DataStream(mnist_valid,\n",
    "                                             iteration_scheme=SequentialScheme(10000,\n",
    "                                                                               batch_size))),\n",
    "                          _meanize(n_steps))\n",
    "teststream = Mapping(Flatten(DataStream(mnist_test,\n",
    "                                            iteration_scheme=SequentialScheme(10000,\n",
    "                                                                              batch_size))),\n",
    "                         _meanize(n_steps))"
   ]
  },
  {
   "cell_type": "code",
   "execution_count": 15,
   "metadata": {
    "collapsed": false
   },
   "outputs": [],
   "source": [
    "model_name = 'best_mnist.pkl'\n",
    "i2h, h2o, rec1 = cPickle.load(file(model_name, 'r'))"
   ]
  },
  {
   "cell_type": "markdown",
   "metadata": {},
   "source": [
    "#### Visualize weights"
   ]
  },
  {
   "cell_type": "code",
   "execution_count": null,
   "metadata": {
    "collapsed": false
   },
   "outputs": [],
   "source": [
    "rcParams['figure.figsize'] = 5,5\n",
    "W = i2h.linear_transformations[0].W.get_value()\n",
    "I = grid2d(W.T[:100])\n",
    "imshow(I, cmap='gray')\n",
    "W.shape"
   ]
  },
  {
   "cell_type": "markdown",
   "metadata": {},
   "source": [
    "#### Reconstructions"
   ]
  },
  {
   "cell_type": "code",
   "execution_count": null,
   "metadata": {
    "collapsed": false
   },
   "outputs": [],
   "source": [
    "EPS = tensor.tensor3('noise')\n",
    "PRE = i2h.apply(EPS)\n",
    "HH = rec1.apply(PRE)\n",
    "ZZ = h2o.apply(HH)\n",
    "F = function([EPS], ZZ)\n",
    "eps = np.random.normal(0.,1,(1,1000)).astype('float32')\n",
    "eps = eps[np.newaxis].repeat(20, axis=0)\n",
    "zz = F(eps)\n",
    "imshow(zz[0].reshape((28,28)),cmap='gray')"
   ]
  },
  {
   "cell_type": "code",
   "execution_count": null,
   "metadata": {
    "collapsed": false
   },
   "outputs": [],
   "source": [
    "X = tensor.tensor3('features')\n",
    "Z0 = i2h.apply(X)\n",
    "Z1 = rec1.apply(Z0)\n",
    "Y = h2o.apply(Z1)\n",
    "F = function([X], Y)\n",
    "E = function([X], tensor.sqr(X-Y).sum())\n",
    "\n",
    "total_error = 0\n",
    "total_energy = 0\n",
    "for x_val in teststream.get_epoch_iterator():\n",
    "    total_error += E(x_val[0])\n",
    "    total_energy += (x_val[0]**2).sum()"
   ]
  },
  {
   "cell_type": "code",
   "execution_count": null,
   "metadata": {
    "collapsed": false
   },
   "outputs": [],
   "source": [
    "from agnez.inputs import image_sequence\n",
    "rcParams['figure.figsize'] = 10, 5\n",
    "y = F(x_val[0])\n",
    "rec = image_sequence(y[:,0,:], (28,28))\n",
    "imshow(rec, cmap='gray')\n",
    "\n",
    "print \"SNR (DB) = %f\" % (10*np.log10(total_error))"
   ]
  },
  {
   "cell_type": "code",
   "execution_count": null,
   "metadata": {
    "collapsed": false
   },
   "outputs": [],
   "source": [
    "rec = image_sequence(x_val[0][:,0,:], (28,28))\n",
    "imshow(rec, cmap='gray')"
   ]
  },
  {
   "cell_type": "markdown",
   "metadata": {},
   "source": [
    "#### 2D Embedding"
   ]
  },
  {
   "cell_type": "code",
   "execution_count": null,
   "metadata": {
    "collapsed": false
   },
   "outputs": [],
   "source": [
    "zt = np.zeros((6e4, 1e3))\n",
    "labels_t = np.zeros(6e4)\n",
    "G = theano.function([X], Z1[-1])\n",
    "for i, b in enumerate(trainstream.get_epoch_iterator()):\n",
    "    first = i*100\n",
    "    last = (i+1)*100\n",
    "    zt[first:last] = G(b[0])\n",
    "    labels_t[first:last] = b[1][:,0]"
   ]
  },
  {
   "cell_type": "code",
   "execution_count": null,
   "metadata": {
    "collapsed": false
   },
   "outputs": [],
   "source": [
    "z = np.zeros((1e4, 1e3))\n",
    "labels = np.zeros(1e4)\n",
    "G = theano.function([X], Z1[-1])\n",
    "for i, b in enumerate(teststream.get_epoch_iterator()):\n",
    "    first = i*100\n",
    "    last = (i+1)*100\n",
    "    z[first:last] = G(b[0])\n",
    "    labels[first:last] = b[1][:,0]"
   ]
  },
  {
   "cell_type": "code",
   "execution_count": null,
   "metadata": {
    "collapsed": false
   },
   "outputs": [],
   "source": [
    "from agnez import embedding2d, embedding2dplot\n",
    "labels=labels.astype('int')\n",
    "ebd, mtd = embedding2d(z)\n",
    "_ = embedding2dplot(ebd, labels)"
   ]
  },
  {
   "cell_type": "markdown",
   "metadata": {},
   "source": [
    "#### Classification"
   ]
  },
  {
   "cell_type": "code",
   "execution_count": null,
   "metadata": {
    "collapsed": false
   },
   "outputs": [],
   "source": [
    "# from sklearn.svm import SVC\n",
    "from sklearn.neighbors import KNeighborsClassifier as KNC\n",
    "knc = KNC(100)\n",
    "knc.fit(zt, labels_t).score(z, labels)"
   ]
  },
  {
   "cell_type": "code",
   "execution_count": null,
   "metadata": {
    "collapsed": false
   },
   "outputs": [],
   "source": [
    "TT = tensor.matrix('targets')\n",
    "probs = clf.apply(Z)\n",
    "clf_error_rate = MisclassificationRate().apply(TT.flatten(), probs)\n",
    "CLF = theano.function([X,TT], clf_error_rate)\n",
    "\n",
    "error_rate = 0\n",
    "for x_val in teststream.get_epoch_iterator():\n",
    "    error_rate += CLF(x_val[0], x_val[1])\n",
    "    \n",
    "print \"total error rate = %f\" % (error_rate/100)"
   ]
  },
  {
   "cell_type": "code",
   "execution_count": null,
   "metadata": {
    "collapsed": false
   },
   "outputs": [],
   "source": [
    "y.shape"
   ]
  },
  {
   "cell_type": "code",
   "execution_count": null,
   "metadata": {
    "collapsed": false
   },
   "outputs": [],
   "source": [
    "print y.mean()\n",
    "print y.var()"
   ]
  },
  {
   "cell_type": "code",
   "execution_count": null,
   "metadata": {
    "collapsed": false
   },
   "outputs": [],
   "source": []
  }
 ],
 "metadata": {
  "kernelspec": {
   "display_name": "Python 2",
   "language": "python",
   "name": "python2"
  },
  "language_info": {
   "codemirror_mode": {
    "name": "ipython",
    "version": 2
   },
   "file_extension": ".py",
   "mimetype": "text/x-python",
   "name": "python",
   "nbconvert_exporter": "python",
   "pygments_lexer": "ipython2",
   "version": "2.7.10"
  }
 },
 "nbformat": 4,
 "nbformat_minor": 0
}
